{
  "nbformat": 4,
  "nbformat_minor": 0,
  "metadata": {
    "colab": {
      "provenance": []
    },
    "kernelspec": {
      "name": "python3",
      "display_name": "Python 3"
    },
    "language_info": {
      "name": "python"
    }
  },
  "cells": [
    {
      "cell_type": "code",
      "execution_count": null,
      "metadata": {
        "colab": {
          "base_uri": "https://localhost:8080/"
        },
        "outputId": "6ef43ffe-ee6c-409a-d578-0a3d6d0817c6",
        "id": "uKBkE4QRXzpg"
      },
      "outputs": [
        {
          "output_type": "stream",
          "name": "stdout",
          "text": [
            "\n",
            "--- Decision Tree ---\n",
            "Metriken: [{'max_depth': 3, 'accuracy': 0.7727272727272727, 'recall': 0.6181818181818182, 'precision': 0.7083333333333334, 'f1_score': 0.6601941747572816, 'cv3_mean_acc': np.float64(0.7356770833333334), 'cv5_mean_acc': np.float64(0.7344028520499108), 'cv7_mean_acc': np.float64(0.7474442988204456), 'cv9_mean_acc': np.float64(0.7344277245782034), 'cv12_mean_acc': np.float64(0.7526041666666666)}, {'max_depth': 5, 'accuracy': 0.7142857142857143, 'recall': 0.8, 'precision': 0.5714285714285714, 'f1_score': 0.6666666666666666, 'cv3_mean_acc': np.float64(0.7135416666666666), 'cv5_mean_acc': np.float64(0.7292250233426704), 'cv7_mean_acc': np.float64(0.7422375789348267), 'cv9_mean_acc': np.float64(0.7369813041495668), 'cv12_mean_acc': np.float64(0.7291666666666666)}, {'max_depth': 7, 'accuracy': 0.7337662337662337, 'recall': 0.7090909090909091, 'precision': 0.609375, 'f1_score': 0.6554621848739496, 'cv3_mean_acc': np.float64(0.7109375), 'cv5_mean_acc': np.float64(0.7031915796621679), 'cv7_mean_acc': np.float64(0.7214702728464196), 'cv9_mean_acc': np.float64(0.720109439124487), 'cv12_mean_acc': np.float64(0.71484375)}, {'max_depth': 10, 'accuracy': 0.6688311688311688, 'recall': 0.5454545454545454, 'precision': 0.5357142857142857, 'f1_score': 0.5405405405405406, 'cv3_mean_acc': np.float64(0.7005208333333334), 'cv5_mean_acc': np.float64(0.6733214497920381), 'cv7_mean_acc': np.float64(0.7188132967949482), 'cv9_mean_acc': np.float64(0.7018695850433196), 'cv12_mean_acc': np.float64(0.7200520833333334)}]\n",
            "\n",
            "--- Logistic Regression ---\n",
            "Metriken: [{'accuracy': 0.7532467532467533, 'recall': 0.6181818181818182, 'precision': 0.6666666666666666, 'f1_score': 0.6415094339622641}]\n",
            "\n",
            "--- Random Forest ---\n",
            "Metriken: [{'n_estimators': 25, 'accuracy': 0.7467532467532467, 'recall': 0.6545454545454545, 'precision': 0.6428571428571429, 'f1_score': 0.6486486486486487}, {'n_estimators': 50, 'accuracy': 0.7662337662337663, 'recall': 0.6545454545454545, 'precision': 0.6792452830188679, 'f1_score': 0.6666666666666666}, {'n_estimators': 100, 'accuracy': 0.7532467532467533, 'recall': 0.6545454545454545, 'precision': 0.6545454545454545, 'f1_score': 0.6545454545454545}, {'n_estimators': 200, 'accuracy': 0.7532467532467533, 'recall': 0.6909090909090909, 'precision': 0.6440677966101694, 'f1_score': 0.6666666666666666}, {'n_estimators': 300, 'accuracy': 0.7597402597402597, 'recall': 0.7090909090909091, 'precision': 0.65, 'f1_score': 0.6782608695652174}, {'n_estimators': 500, 'accuracy': 0.7532467532467533, 'recall': 0.6727272727272727, 'precision': 0.6491228070175439, 'f1_score': 0.6607142857142857}]\n",
            "\n",
            "--- Conclusion ---\n",
            "-> The Decision Tree performed well with ~77% accuracy.\n",
            "-> The Random Forest achieved ~76% accuracy, but with significantly higher recall (0.70 vs. 0.62).\n",
            "-> Since this is a medical classification, higher recall is more important - false-negative diagnoses are critical.\n",
            "-> Therefore, the final model is: **RandomForestClassifier with n_estimators=300**.\n"
          ]
        }
      ],
      "source": [
        "import sys\n",
        "\n",
        "sys.path.append(\"/content\")\n",
        "#I am importing my models\n",
        "from diabetes_decisiontree import run_decision_tree\n",
        "from diabetes_logisticregression import run_logistic_regression\n",
        "from diabetes_randomforest import run_random_forest\n",
        "\n",
        "#I am printing the results of my models and printing my conclusion and decision which model is the best\n",
        "def main():\n",
        "    print(\"\\n--- Decision Tree ---\")\n",
        "    results = run_decision_tree()\n",
        "    print(f\"Metriken: {results}\")\n",
        "\n",
        "\n",
        "    print(\"\\n--- Logistic Regression ---\")\n",
        "    results = run_logistic_regression()\n",
        "    print(f\"Metriken: {results}\")\n",
        "\n",
        "    print(\"\\n--- Random Forest ---\")\n",
        "    results = run_random_forest()\n",
        "    print(f\"Metriken: {results}\")\n",
        "\n",
        "    print(\"\\n--- Conclusion ---\")\n",
        "    print(\"-> The Decision Tree performed well with ~77% accuracy.\")\n",
        "    print(\"-> The Random Forest achieved ~76% accuracy, but with significantly higher recall (0.70 vs. 0.62).\")\n",
        "    print(\"-> Since this is a medical classification, higher recall is more important - false-negative diagnoses are critical.\")\n",
        "    print(\"-> Therefore, the final model is: **RandomForestClassifier with n_estimators=300**.\")\n",
        "#this safes my Code to run wrong code if I importing it to a other project\n",
        "if __name__ == \"__main__\":\n",
        "    main()"
      ]
    }
  ]
}